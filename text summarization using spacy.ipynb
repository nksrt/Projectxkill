{
 "cells": [
  {
   "cell_type": "markdown",
   "metadata": {},
   "source": [
    "# what is text summarization\n",
    "it is a process of filtering the most important information from source text"
   ]
  },
  {
   "cell_type": "markdown",
   "metadata": {},
   "source": [
    "# Importance of automatic text summarization\n",
    "\n",
    "why automatic text summarization\n",
    "\n",
    "summaries reduce reading time\n",
    "\n",
    "When researching documents, summaries make the selection process easier.\n",
    "\n",
    "Improves the effectivesness of indexing\n",
    "\n",
    "This is less biased than human summarizers\n",
    "\n",
    "Prsonalized summaries are useful in question-answering sustems as they provide personalized information\n",
    "\n",
    "Using automatic or semi-automatic summarization systems enables commercial abstract services to - increase the number of text documents they are able to process.\n"
   ]
  },
  {
   "cell_type": "markdown",
   "metadata": {},
   "source": [
    "# Important Steps in Text summarization\n",
    "# text cleaning\n",
    "# sentence tokenization\n",
    "# word tokenization\n",
    "# worid-frequency table\n",
    "# summarization"
   ]
  },
  {
   "cell_type": "code",
   "execution_count": 1,
   "metadata": {},
   "outputs": [
    {
     "name": "stdout",
     "output_type": "stream",
     "text": [
      "Requirement already satisfied: spacy in c:\\users\\dread soul\\anaconda3\\lib\\site-packages (3.2.1)\n",
      "Requirement already satisfied: spacy-legacy<3.1.0,>=3.0.8 in c:\\users\\dread soul\\anaconda3\\lib\\site-packages (from spacy) (3.0.8)\n",
      "Requirement already satisfied: langcodes<4.0.0,>=3.2.0 in c:\\users\\dread soul\\anaconda3\\lib\\site-packages (from spacy) (3.3.0)\n",
      "Requirement already satisfied: spacy-loggers<2.0.0,>=1.0.0 in c:\\users\\dread soul\\anaconda3\\lib\\site-packages (from spacy) (1.0.1)\n",
      "Requirement already satisfied: wasabi<1.1.0,>=0.8.1 in c:\\users\\dread soul\\anaconda3\\lib\\site-packages (from spacy) (0.9.0)\n",
      "Requirement already satisfied: blis<0.8.0,>=0.4.0 in c:\\users\\dread soul\\anaconda3\\lib\\site-packages (from spacy) (0.7.5)\n",
      "Requirement already satisfied: thinc<8.1.0,>=8.0.12 in c:\\users\\dread soul\\anaconda3\\lib\\site-packages (from spacy) (8.0.13)\n",
      "Requirement already satisfied: catalogue<2.1.0,>=2.0.6 in c:\\users\\dread soul\\anaconda3\\lib\\site-packages (from spacy) (2.0.6)\n",
      "Requirement already satisfied: pydantic!=1.8,!=1.8.1,<1.9.0,>=1.7.4 in c:\\users\\dread soul\\anaconda3\\lib\\site-packages (from spacy) (1.8.2)\n",
      "Requirement already satisfied: pathy>=0.3.5 in c:\\users\\dread soul\\anaconda3\\lib\\site-packages (from spacy) (0.6.1)\n",
      "Requirement already satisfied: setuptools in c:\\users\\dread soul\\anaconda3\\lib\\site-packages (from spacy) (58.0.4)\n",
      "Requirement already satisfied: cymem<2.1.0,>=2.0.2 in c:\\users\\dread soul\\anaconda3\\lib\\site-packages (from spacy) (2.0.6)\n",
      "Requirement already satisfied: tqdm<5.0.0,>=4.38.0 in c:\\users\\dread soul\\anaconda3\\lib\\site-packages (from spacy) (4.62.3)\n",
      "Requirement already satisfied: jinja2 in c:\\users\\dread soul\\anaconda3\\lib\\site-packages (from spacy) (2.11.3)\n",
      "Requirement already satisfied: numpy>=1.15.0 in c:\\users\\dread soul\\anaconda3\\lib\\site-packages (from spacy) (1.20.3)\n",
      "Requirement already satisfied: requests<3.0.0,>=2.13.0 in c:\\users\\dread soul\\anaconda3\\lib\\site-packages (from spacy) (2.26.0)\n",
      "Requirement already satisfied: murmurhash<1.1.0,>=0.28.0 in c:\\users\\dread soul\\anaconda3\\lib\\site-packages (from spacy) (1.0.6)\n",
      "Requirement already satisfied: typer<0.5.0,>=0.3.0 in c:\\users\\dread soul\\anaconda3\\lib\\site-packages (from spacy) (0.4.0)\n",
      "Requirement already satisfied: preshed<3.1.0,>=3.0.2 in c:\\users\\dread soul\\anaconda3\\lib\\site-packages (from spacy) (3.0.6)\n",
      "Requirement already satisfied: packaging>=20.0 in c:\\users\\dread soul\\anaconda3\\lib\\site-packages (from spacy) (21.0)\n",
      "Requirement already satisfied: srsly<3.0.0,>=2.4.1 in c:\\users\\dread soul\\anaconda3\\lib\\site-packages (from spacy) (2.4.2)\n",
      "Requirement already satisfied: pyparsing>=2.0.2 in c:\\users\\dread soul\\anaconda3\\lib\\site-packages (from packaging>=20.0->spacy) (3.0.4)\n",
      "Requirement already satisfied: smart-open<6.0.0,>=5.0.0 in c:\\users\\dread soul\\anaconda3\\lib\\site-packages (from pathy>=0.3.5->spacy) (5.2.1)\n",
      "Requirement already satisfied: typing-extensions>=3.7.4.3 in c:\\users\\dread soul\\anaconda3\\lib\\site-packages (from pydantic!=1.8,!=1.8.1,<1.9.0,>=1.7.4->spacy) (3.10.0.2)\n",
      "Requirement already satisfied: certifi>=2017.4.17 in c:\\users\\dread soul\\anaconda3\\lib\\site-packages (from requests<3.0.0,>=2.13.0->spacy) (2021.10.8)\n",
      "Requirement already satisfied: urllib3<1.27,>=1.21.1 in c:\\users\\dread soul\\anaconda3\\lib\\site-packages (from requests<3.0.0,>=2.13.0->spacy) (1.26.7)\n",
      "Requirement already satisfied: charset-normalizer~=2.0.0 in c:\\users\\dread soul\\anaconda3\\lib\\site-packages (from requests<3.0.0,>=2.13.0->spacy) (2.0.4)\n",
      "Requirement already satisfied: idna<4,>=2.5 in c:\\users\\dread soul\\anaconda3\\lib\\site-packages (from requests<3.0.0,>=2.13.0->spacy) (3.2)\n",
      "Requirement already satisfied: colorama in c:\\users\\dread soul\\anaconda3\\lib\\site-packages (from tqdm<5.0.0,>=4.38.0->spacy) (0.4.4)\n",
      "Requirement already satisfied: click<9.0.0,>=7.1.1 in c:\\users\\dread soul\\anaconda3\\lib\\site-packages (from typer<0.5.0,>=0.3.0->spacy) (8.0.3)\n",
      "Requirement already satisfied: MarkupSafe>=0.23 in c:\\users\\dread soul\\anaconda3\\lib\\site-packages (from jinja2->spacy) (1.1.1)\n",
      "Collecting en-core-web-sm==3.2.0\n",
      "  Downloading https://github.com/explosion/spacy-models/releases/download/en_core_web_sm-3.2.0/en_core_web_sm-3.2.0-py3-none-any.whl (13.9 MB)\n",
      "Requirement already satisfied: spacy<3.3.0,>=3.2.0 in c:\\users\\dread soul\\anaconda3\\lib\\site-packages (from en-core-web-sm==3.2.0) (3.2.1)\n",
      "Requirement already satisfied: thinc<8.1.0,>=8.0.12 in c:\\users\\dread soul\\anaconda3\\lib\\site-packages (from spacy<3.3.0,>=3.2.0->en-core-web-sm==3.2.0) (8.0.13)\n",
      "Requirement already satisfied: tqdm<5.0.0,>=4.38.0 in c:\\users\\dread soul\\anaconda3\\lib\\site-packages (from spacy<3.3.0,>=3.2.0->en-core-web-sm==3.2.0) (4.62.3)\n",
      "Requirement already satisfied: pathy>=0.3.5 in c:\\users\\dread soul\\anaconda3\\lib\\site-packages (from spacy<3.3.0,>=3.2.0->en-core-web-sm==3.2.0) (0.6.1)\n",
      "Requirement already satisfied: requests<3.0.0,>=2.13.0 in c:\\users\\dread soul\\anaconda3\\lib\\site-packages (from spacy<3.3.0,>=3.2.0->en-core-web-sm==3.2.0) (2.26.0)\n",
      "Requirement already satisfied: preshed<3.1.0,>=3.0.2 in c:\\users\\dread soul\\anaconda3\\lib\\site-packages (from spacy<3.3.0,>=3.2.0->en-core-web-sm==3.2.0) (3.0.6)\n",
      "Requirement already satisfied: blis<0.8.0,>=0.4.0 in c:\\users\\dread soul\\anaconda3\\lib\\site-packages (from spacy<3.3.0,>=3.2.0->en-core-web-sm==3.2.0) (0.7.5)\n",
      "Requirement already satisfied: pydantic!=1.8,!=1.8.1,<1.9.0,>=1.7.4 in c:\\users\\dread soul\\anaconda3\\lib\\site-packages (from spacy<3.3.0,>=3.2.0->en-core-web-sm==3.2.0) (1.8.2)\n",
      "Requirement already satisfied: catalogue<2.1.0,>=2.0.6 in c:\\users\\dread soul\\anaconda3\\lib\\site-packages (from spacy<3.3.0,>=3.2.0->en-core-web-sm==3.2.0) (2.0.6)\n",
      "Requirement already satisfied: spacy-loggers<2.0.0,>=1.0.0 in c:\\users\\dread soul\\anaconda3\\lib\\site-packages (from spacy<3.3.0,>=3.2.0->en-core-web-sm==3.2.0) (1.0.1)\n",
      "Requirement already satisfied: numpy>=1.15.0 in c:\\users\\dread soul\\anaconda3\\lib\\site-packages (from spacy<3.3.0,>=3.2.0->en-core-web-sm==3.2.0) (1.20.3)\n",
      "Requirement already satisfied: srsly<3.0.0,>=2.4.1 in c:\\users\\dread soul\\anaconda3\\lib\\site-packages (from spacy<3.3.0,>=3.2.0->en-core-web-sm==3.2.0) (2.4.2)\n",
      "Requirement already satisfied: langcodes<4.0.0,>=3.2.0 in c:\\users\\dread soul\\anaconda3\\lib\\site-packages (from spacy<3.3.0,>=3.2.0->en-core-web-sm==3.2.0) (3.3.0)\n",
      "Requirement already satisfied: spacy-legacy<3.1.0,>=3.0.8 in c:\\users\\dread soul\\anaconda3\\lib\\site-packages (from spacy<3.3.0,>=3.2.0->en-core-web-sm==3.2.0) (3.0.8)\n",
      "Requirement already satisfied: typer<0.5.0,>=0.3.0 in c:\\users\\dread soul\\anaconda3\\lib\\site-packages (from spacy<3.3.0,>=3.2.0->en-core-web-sm==3.2.0) (0.4.0)\n",
      "Requirement already satisfied: murmurhash<1.1.0,>=0.28.0 in c:\\users\\dread soul\\anaconda3\\lib\\site-packages (from spacy<3.3.0,>=3.2.0->en-core-web-sm==3.2.0) (1.0.6)\n",
      "Requirement already satisfied: jinja2 in c:\\users\\dread soul\\anaconda3\\lib\\site-packages (from spacy<3.3.0,>=3.2.0->en-core-web-sm==3.2.0) (2.11.3)\n",
      "Requirement already satisfied: packaging>=20.0 in c:\\users\\dread soul\\anaconda3\\lib\\site-packages (from spacy<3.3.0,>=3.2.0->en-core-web-sm==3.2.0) (21.0)\n",
      "Requirement already satisfied: wasabi<1.1.0,>=0.8.1 in c:\\users\\dread soul\\anaconda3\\lib\\site-packages (from spacy<3.3.0,>=3.2.0->en-core-web-sm==3.2.0) (0.9.0)\n",
      "Requirement already satisfied: setuptools in c:\\users\\dread soul\\anaconda3\\lib\\site-packages (from spacy<3.3.0,>=3.2.0->en-core-web-sm==3.2.0) (58.0.4)\n",
      "Requirement already satisfied: cymem<2.1.0,>=2.0.2 in c:\\users\\dread soul\\anaconda3\\lib\\site-packages (from spacy<3.3.0,>=3.2.0->en-core-web-sm==3.2.0) (2.0.6)\n",
      "Requirement already satisfied: pyparsing>=2.0.2 in c:\\users\\dread soul\\anaconda3\\lib\\site-packages (from packaging>=20.0->spacy<3.3.0,>=3.2.0->en-core-web-sm==3.2.0) (3.0.4)\n",
      "Requirement already satisfied: smart-open<6.0.0,>=5.0.0 in c:\\users\\dread soul\\anaconda3\\lib\\site-packages (from pathy>=0.3.5->spacy<3.3.0,>=3.2.0->en-core-web-sm==3.2.0) (5.2.1)\n",
      "Requirement already satisfied: typing-extensions>=3.7.4.3 in c:\\users\\dread soul\\anaconda3\\lib\\site-packages (from pydantic!=1.8,!=1.8.1,<1.9.0,>=1.7.4->spacy<3.3.0,>=3.2.0->en-core-web-sm==3.2.0) (3.10.0.2)\n",
      "Requirement already satisfied: charset-normalizer~=2.0.0 in c:\\users\\dread soul\\anaconda3\\lib\\site-packages (from requests<3.0.0,>=2.13.0->spacy<3.3.0,>=3.2.0->en-core-web-sm==3.2.0) (2.0.4)\n",
      "Requirement already satisfied: certifi>=2017.4.17 in c:\\users\\dread soul\\anaconda3\\lib\\site-packages (from requests<3.0.0,>=2.13.0->spacy<3.3.0,>=3.2.0->en-core-web-sm==3.2.0) (2021.10.8)\n",
      "Requirement already satisfied: urllib3<1.27,>=1.21.1 in c:\\users\\dread soul\\anaconda3\\lib\\site-packages (from requests<3.0.0,>=2.13.0->spacy<3.3.0,>=3.2.0->en-core-web-sm==3.2.0) (1.26.7)\n",
      "Requirement already satisfied: idna<4,>=2.5 in c:\\users\\dread soul\\anaconda3\\lib\\site-packages (from requests<3.0.0,>=2.13.0->spacy<3.3.0,>=3.2.0->en-core-web-sm==3.2.0) (3.2)\n",
      "Requirement already satisfied: colorama in c:\\users\\dread soul\\anaconda3\\lib\\site-packages (from tqdm<5.0.0,>=4.38.0->spacy<3.3.0,>=3.2.0->en-core-web-sm==3.2.0) (0.4.4)\n",
      "Requirement already satisfied: click<9.0.0,>=7.1.1 in c:\\users\\dread soul\\anaconda3\\lib\\site-packages (from typer<0.5.0,>=0.3.0->spacy<3.3.0,>=3.2.0->en-core-web-sm==3.2.0) (8.0.3)\n",
      "Requirement already satisfied: MarkupSafe>=0.23 in c:\\users\\dread soul\\anaconda3\\lib\\site-packages (from jinja2->spacy<3.3.0,>=3.2.0->en-core-web-sm==3.2.0) (1.1.1)\n",
      "[+] Download and installation successful\n",
      "You can now load the package via spacy.load('en_core_web_sm')\n"
     ]
    }
   ],
   "source": [
    "# Download important libraries\n",
    "!pip install -U spacy\n",
    "!python -m spacy download en_core_web_sm\n",
    "\n",
    "import spacy\n",
    "from spacy.lang.en.stop_words import STOP_WORDS\n",
    "from string import punctuation\n"
   ]
  },
  {
   "cell_type": "code",
   "execution_count": 2,
   "metadata": {},
   "outputs": [],
   "source": [
    "# Taking text for summarization"
   ]
  },
  {
   "cell_type": "code",
   "execution_count": 3,
   "metadata": {},
   "outputs": [],
   "source": [
    "text = '''Analytical marketing: How Turkcell reduced their sales cycle from weeks to days\n",
    "There are an enormous number of solutions telecommunications companies can provide, but most customers are only interested in a select few. Analytical marketing is the practice of using customer data to identify which consumers will most likely benefit from which products. This involves using consumer information to create microsegments, or personas that describe smaller sets of customers rather than large, big-picture details. It also includes detecting specific behaviors that prompt a new product offer, such as suggesting an international data plan to a customer who frequently sends texts to friends in other countries.\n",
    "\n",
    "The first step in leveraging analytical marketing is to gather data. Companies need to strike a balance between obtaining high-quality, comprehensive information and maintaining trust with the consumer.\n",
    "\n",
    "With the increasing capabilities for data mining, consumers have become protective of their personal information. Shady practices like obtaining and using data without notifying the customer, or selling and buying information from third-party sources have left consumers scarred and wary.\n",
    "\n",
    "Ironically, consumers also become frustrated when they perceive companies to not have a good understanding of their needs or offer random products rather than relevant ones. This complex dynamic means telecom businesses must gather high-quality information, but use it in a responsible, transparent way.\n",
    "\n",
    "A 2011 marketing campaign completed by Turkcell, an Istanbul-based cellphone provider, demonstrated the successful use of consumer data. The company began reviewing customer data in real time, allowing them to better identify individuals’ needs at that time. As a result, they were able to shorten their marketing cycle from several weeks to several days and increase revenue by $15 million that year, according to a Strategy& report from PwC.'''\n",
    "\n"
   ]
  },
  {
   "cell_type": "code",
   "execution_count": 4,
   "metadata": {},
   "outputs": [
    {
     "data": {
      "text/plain": [
       "['should',\n",
       " 'sometimes',\n",
       " 'above',\n",
       " 'afterwards',\n",
       " 'done',\n",
       " 'own',\n",
       " 'her',\n",
       " 'noone',\n",
       " 'since',\n",
       " '’s',\n",
       " 'part',\n",
       " 'myself',\n",
       " 'only',\n",
       " 'nevertheless',\n",
       " '‘s',\n",
       " 'must',\n",
       " 'full',\n",
       " 'himself',\n",
       " 'nine',\n",
       " 'which',\n",
       " 'ever',\n",
       " 'my',\n",
       " 'therein',\n",
       " 'get',\n",
       " 'became',\n",
       " 'third',\n",
       " 'none',\n",
       " '‘ll',\n",
       " 'them',\n",
       " 'then',\n",
       " 'move',\n",
       " 'among',\n",
       " 'ten',\n",
       " 'though',\n",
       " 'hereby',\n",
       " 'whenever',\n",
       " 'and',\n",
       " 'beside',\n",
       " 'there',\n",
       " 'others',\n",
       " 'therefore',\n",
       " 'all',\n",
       " 'a',\n",
       " 'over',\n",
       " 'again',\n",
       " 'whole',\n",
       " 'name',\n",
       " 'why',\n",
       " 'becomes',\n",
       " 'further',\n",
       " 'these',\n",
       " 'never',\n",
       " 'nowhere',\n",
       " 'using',\n",
       " 'thus',\n",
       " 'make',\n",
       " 'towards',\n",
       " 'is',\n",
       " 'around',\n",
       " 'herein',\n",
       " 'n’t',\n",
       " 'put',\n",
       " 'somewhere',\n",
       " 'becoming',\n",
       " 'even',\n",
       " 'in',\n",
       " 'after',\n",
       " 'ourselves',\n",
       " 'be',\n",
       " 'very',\n",
       " 'already',\n",
       " 'us',\n",
       " 'beyond',\n",
       " 'their',\n",
       " 'made',\n",
       " 'although',\n",
       " '’m',\n",
       " 'mine',\n",
       " 'being',\n",
       " 'anywhere',\n",
       " 'eleven',\n",
       " 'from',\n",
       " 'last',\n",
       " 'amount',\n",
       " 'more',\n",
       " 'often',\n",
       " '’re',\n",
       " 'hereupon',\n",
       " 'those',\n",
       " 're',\n",
       " 'unless',\n",
       " \"'ll\",\n",
       " 'under',\n",
       " 'anything',\n",
       " 'about',\n",
       " 'hereafter',\n",
       " 'really',\n",
       " 'back',\n",
       " \"'m\",\n",
       " 'has',\n",
       " 'latter',\n",
       " 'but',\n",
       " 'almost',\n",
       " 'until',\n",
       " 'once',\n",
       " 'together',\n",
       " 'against',\n",
       " 'as',\n",
       " 'this',\n",
       " 'indeed',\n",
       " 'do',\n",
       " 'give',\n",
       " 'wherever',\n",
       " 'along',\n",
       " 'first',\n",
       " 'toward',\n",
       " 'bottom',\n",
       " 'hundred',\n",
       " 'yours',\n",
       " 'namely',\n",
       " 'for',\n",
       " 'themselves',\n",
       " 'doing',\n",
       " 'at',\n",
       " '‘d',\n",
       " 'she',\n",
       " 'thence',\n",
       " 'he',\n",
       " '‘re',\n",
       " 'other',\n",
       " 'elsewhere',\n",
       " 'say',\n",
       " \"'d\",\n",
       " 'each',\n",
       " 'whatever',\n",
       " 'while',\n",
       " 'not',\n",
       " 'what',\n",
       " 'latterly',\n",
       " 'within',\n",
       " 'both',\n",
       " 'mostly',\n",
       " 'well',\n",
       " 'one',\n",
       " 'who',\n",
       " 'such',\n",
       " 'were',\n",
       " 'twenty',\n",
       " 'many',\n",
       " 'am',\n",
       " 'upon',\n",
       " 'anyhow',\n",
       " 'show',\n",
       " 'sixty',\n",
       " 'just',\n",
       " 'few',\n",
       " 'every',\n",
       " 'when',\n",
       " 'or',\n",
       " 'of',\n",
       " 'someone',\n",
       " 'can',\n",
       " 'keep',\n",
       " 'always',\n",
       " 'sometime',\n",
       " '‘ve',\n",
       " 'been',\n",
       " 'used',\n",
       " 'could',\n",
       " 'everyone',\n",
       " 'serious',\n",
       " 'where',\n",
       " 'an',\n",
       " 'down',\n",
       " 'by',\n",
       " 'forty',\n",
       " 'six',\n",
       " 'another',\n",
       " 'please',\n",
       " 'four',\n",
       " 'fifty',\n",
       " 'before',\n",
       " 'if',\n",
       " 'whoever',\n",
       " 'yourselves',\n",
       " '’ve',\n",
       " 'during',\n",
       " 'onto',\n",
       " 'up',\n",
       " 'much',\n",
       " 'side',\n",
       " 'you',\n",
       " '’d',\n",
       " 'somehow',\n",
       " 'rather',\n",
       " 'empty',\n",
       " 'whither',\n",
       " 'below',\n",
       " 'several',\n",
       " 'itself',\n",
       " 'hence',\n",
       " 'because',\n",
       " 'how',\n",
       " 'out',\n",
       " 'same',\n",
       " \"'s\",\n",
       " 'two',\n",
       " 'with',\n",
       " 'did',\n",
       " 'also',\n",
       " 'your',\n",
       " 'yourself',\n",
       " \"'re\",\n",
       " 'besides',\n",
       " 'seeming',\n",
       " 'to',\n",
       " 'was',\n",
       " 'quite',\n",
       " 'else',\n",
       " \"n't\",\n",
       " 'perhaps',\n",
       " 'call',\n",
       " 'front',\n",
       " 'see',\n",
       " 'next',\n",
       " 'whereupon',\n",
       " 'nobody',\n",
       " 'less',\n",
       " 'any',\n",
       " 'whence',\n",
       " 'due',\n",
       " 'however',\n",
       " 'regarding',\n",
       " 'three',\n",
       " 'that',\n",
       " 'whether',\n",
       " 'beforehand',\n",
       " 'through',\n",
       " 'otherwise',\n",
       " 'seemed',\n",
       " 'throughout',\n",
       " 'whereby',\n",
       " 'various',\n",
       " 'either',\n",
       " 'cannot',\n",
       " 'hers',\n",
       " 'too',\n",
       " '‘m',\n",
       " 'would',\n",
       " 'our',\n",
       " 'anyway',\n",
       " 'except',\n",
       " 'still',\n",
       " 'thru',\n",
       " 'seems',\n",
       " 'top',\n",
       " 'i',\n",
       " 'most',\n",
       " 'some',\n",
       " 'than',\n",
       " 'will',\n",
       " 'we',\n",
       " 'between',\n",
       " 'here',\n",
       " 'anyone',\n",
       " 'n‘t',\n",
       " 'per',\n",
       " 'whom',\n",
       " 'are',\n",
       " 'had',\n",
       " 'become',\n",
       " 'enough',\n",
       " 'fifteen',\n",
       " 'they',\n",
       " 'into',\n",
       " 'it',\n",
       " 'thereupon',\n",
       " 'thereby',\n",
       " 'neither',\n",
       " 'five',\n",
       " 'least',\n",
       " 'seem',\n",
       " 'amongst',\n",
       " 'may',\n",
       " 'whereafter',\n",
       " 'moreover',\n",
       " 'meanwhile',\n",
       " 'now',\n",
       " 'via',\n",
       " 'eight',\n",
       " 'behind',\n",
       " 'whose',\n",
       " 'take',\n",
       " 'everywhere',\n",
       " 'the',\n",
       " 'twelve',\n",
       " 'thereafter',\n",
       " 'nor',\n",
       " 'formerly',\n",
       " 'go',\n",
       " 'former',\n",
       " 'off',\n",
       " 'ca',\n",
       " 'whereas',\n",
       " 'have',\n",
       " 'its',\n",
       " 'on',\n",
       " 'alone',\n",
       " 'nothing',\n",
       " 'no',\n",
       " 'does',\n",
       " \"'ve\",\n",
       " 'his',\n",
       " 'something',\n",
       " 'across',\n",
       " '’ll',\n",
       " 'might',\n",
       " 'me',\n",
       " 'without',\n",
       " 'him',\n",
       " 'herself',\n",
       " 'so',\n",
       " 'yet',\n",
       " 'everything',\n",
       " 'wherein',\n",
       " 'ours']"
      ]
     },
     "execution_count": 4,
     "metadata": {},
     "output_type": "execute_result"
    }
   ],
   "source": [
    "# List of stop words\n",
    "stopwords = list( STOP_WORDS)\n",
    "stopwords"
   ]
  },
  {
   "cell_type": "code",
   "execution_count": 5,
   "metadata": {},
   "outputs": [],
   "source": [
    "# pass document into spacy and store in \"doc\" object\n",
    "nlp = spacy.load('en_core_web_sm')\n",
    "doc = nlp(text)\n"
   ]
  },
  {
   "cell_type": "markdown",
   "metadata": {},
   "source": [
    "# What is Tokenization\n",
    "Tokenization is the process of tokenizing or splitting a string, text into a list of tokens.\n",
    "One can think of token as parts like a word is a token in a sentence, and a sentence is a token\n",
    "in a paragraph."
   ]
  },
  {
   "cell_type": "code",
   "execution_count": 6,
   "metadata": {},
   "outputs": [
    {
     "name": "stdout",
     "output_type": "stream",
     "text": [
      "['Analytical', 'marketing', ':', 'How', 'Turkcell', 'reduced', 'their', 'sales', 'cycle', 'from', 'weeks', 'to', 'days', '\\n', 'There', 'are', 'an', 'enormous', 'number', 'of', 'solutions', 'telecommunications', 'companies', 'can', 'provide', ',', 'but', 'most', 'customers', 'are', 'only', 'interested', 'in', 'a', 'select', 'few', '.', 'Analytical', 'marketing', 'is', 'the', 'practice', 'of', 'using', 'customer', 'data', 'to', 'identify', 'which', 'consumers', 'will', 'most', 'likely', 'benefit', 'from', 'which', 'products', '.', 'This', 'involves', 'using', 'consumer', 'information', 'to', 'create', 'microsegments', ',', 'or', 'personas', 'that', 'describe', 'smaller', 'sets', 'of', 'customers', 'rather', 'than', 'large', ',', 'big', '-', 'picture', 'details', '.', 'It', 'also', 'includes', 'detecting', 'specific', 'behaviors', 'that', 'prompt', 'a', 'new', 'product', 'offer', ',', 'such', 'as', 'suggesting', 'an', 'international', 'data', 'plan', 'to', 'a', 'customer', 'who', 'frequently', 'sends', 'texts', 'to', 'friends', 'in', 'other', 'countries', '.', '\\n\\n', 'The', 'first', 'step', 'in', 'leveraging', 'analytical', 'marketing', 'is', 'to', 'gather', 'data', '.', 'Companies', 'need', 'to', 'strike', 'a', 'balance', 'between', 'obtaining', 'high', '-', 'quality', ',', 'comprehensive', 'information', 'and', 'maintaining', 'trust', 'with', 'the', 'consumer', '.', '\\n\\n', 'With', 'the', 'increasing', 'capabilities', 'for', 'data', 'mining', ',', 'consumers', 'have', 'become', 'protective', 'of', 'their', 'personal', 'information', '.', 'Shady', 'practices', 'like', 'obtaining', 'and', 'using', 'data', 'without', 'notifying', 'the', 'customer', ',', 'or', 'selling', 'and', 'buying', 'information', 'from', 'third', '-', 'party', 'sources', 'have', 'left', 'consumers', 'scarred', 'and', 'wary', '.', '\\n\\n', 'Ironically', ',', 'consumers', 'also', 'become', 'frustrated', 'when', 'they', 'perceive', 'companies', 'to', 'not', 'have', 'a', 'good', 'understanding', 'of', 'their', 'needs', 'or', 'offer', 'random', 'products', 'rather', 'than', 'relevant', 'ones', '.', 'This', 'complex', 'dynamic', 'means', 'telecom', 'businesses', 'must', 'gather', 'high', '-', 'quality', 'information', ',', 'but', 'use', 'it', 'in', 'a', 'responsible', ',', 'transparent', 'way', '.', '\\n\\n', 'A', '2011', 'marketing', 'campaign', 'completed', 'by', 'Turkcell', ',', 'an', 'Istanbul', '-', 'based', 'cellphone', 'provider', ',', 'demonstrated', 'the', 'successful', 'use', 'of', 'consumer', 'data', '.', 'The', 'company', 'began', 'reviewing', 'customer', 'data', 'in', 'real', 'time', ',', 'allowing', 'them', 'to', 'better', 'identify', 'individuals', '’', 'needs', 'at', 'that', 'time', '.', 'As', 'a', 'result', ',', 'they', 'were', 'able', 'to', 'shorten', 'their', 'marketing', 'cycle', 'from', 'several', 'weeks', 'to', 'several', 'days', 'and', 'increase', 'revenue', 'by', '$', '15', 'million', 'that', 'year', ',', 'according', 'to', 'a', 'Strategy', '&', 'report', 'from', 'PwC.']\n"
     ]
    }
   ],
   "source": [
    "\n",
    "tokens = [token.text for token in doc]\n",
    "print(tokens)"
   ]
  },
  {
   "cell_type": "code",
   "execution_count": 7,
   "metadata": {},
   "outputs": [
    {
     "data": {
      "text/plain": [
       "'!\"#$%&\\'()*+,-./:;<=>?@[\\\\]^_`{|}~\\n\\n\\n'"
      ]
     },
     "execution_count": 7,
     "metadata": {},
     "output_type": "execute_result"
    }
   ],
   "source": [
    "# add \\n to the punchuvation list\n",
    "punctuation = punctuation + '\\n' + '\\n\\n'\n",
    "punctuation"
   ]
  },
  {
   "cell_type": "markdown",
   "metadata": {},
   "source": [
    "# Preparing a dictionary for word frequencies \n"
   ]
  },
  {
   "cell_type": "code",
   "execution_count": 8,
   "metadata": {},
   "outputs": [
    {
     "ename": "SyntaxError",
     "evalue": "invalid syntax (Temp/ipykernel_8640/128169867.py, line 1)",
     "output_type": "error",
     "traceback": [
      "\u001b[1;36m  File \u001b[1;32m\"C:\\Users\\DREADS~1\\AppData\\Local\\Temp/ipykernel_8640/128169867.py\"\u001b[1;36m, line \u001b[1;32m1\u001b[0m\n\u001b[1;33m    word_frequencies = {}                       // Dictionary Name\u001b[0m\n\u001b[1;37m                                                              ^\u001b[0m\n\u001b[1;31mSyntaxError\u001b[0m\u001b[1;31m:\u001b[0m invalid syntax\n"
     ]
    }
   ],
   "source": [
    "word_frequencies = {}                       // Dictionary Name\n",
    "for word in doc:\n",
    "    if word.text.lower() not in stopwords:\n",
    "        if word.text.lower() not in punctuation:\n",
    "            if word.text not in word_frequencies.keys():   \n",
    "                word_frequencies[word.text] = 1\n",
    "            else:\n",
    "                word_frequencies[word.text] +=1\n",
    "print(word_frequencies)                "
   ]
  },
  {
   "cell_type": "code",
   "execution_count": 35,
   "metadata": {},
   "outputs": [],
   "source": [
    "max_frequcncy = max(word_frequencies.values())"
   ]
  },
  {
   "cell_type": "markdown",
   "metadata": {},
   "source": [
    "# By creating a Dictionay for word and its normalized frequencies\n",
    "By creating a Dictionay for sentences and its normalized frequencies"
   ]
  },
  {
   "cell_type": "code",
   "execution_count": 36,
   "metadata": {},
   "outputs": [
    {
     "data": {
      "text/plain": [
       "7"
      ]
     },
     "execution_count": 36,
     "metadata": {},
     "output_type": "execute_result"
    }
   ],
   "source": [
    "# Maximum repeated word in the document seemd  - data\n",
    "max_frequcncy"
   ]
  },
  {
   "cell_type": "code",
   "execution_count": 37,
   "metadata": {},
   "outputs": [],
   "source": [
    "# Normalize the word frencies\n",
    "for word in word_frequencies.keys():\n",
    "    word_frequencies[word] = word_frequencies[word]/max_frequcncy"
   ]
  },
  {
   "cell_type": "code",
   "execution_count": 38,
   "metadata": {},
   "outputs": [
    {
     "name": "stdout",
     "output_type": "stream",
     "text": [
      "{'Analytical': 0.2857142857142857, 'marketing': 0.7142857142857143, 'Turkcell': 0.2857142857142857, 'reduced': 0.14285714285714285, 'sales': 0.14285714285714285, 'cycle': 0.2857142857142857, 'weeks': 0.2857142857142857, 'days': 0.2857142857142857, 'enormous': 0.14285714285714285, 'number': 0.14285714285714285, 'solutions': 0.14285714285714285, 'telecommunications': 0.14285714285714285, 'companies': 0.2857142857142857, 'provide': 0.14285714285714285, 'customers': 0.2857142857142857, 'interested': 0.14285714285714285, 'select': 0.14285714285714285, 'practice': 0.14285714285714285, 'customer': 0.5714285714285714, 'data': 1.0, 'identify': 0.2857142857142857, 'consumers': 0.5714285714285714, 'likely': 0.14285714285714285, 'benefit': 0.14285714285714285, 'products': 0.2857142857142857, 'involves': 0.14285714285714285, 'consumer': 0.42857142857142855, 'information': 0.7142857142857143, 'create': 0.14285714285714285, 'microsegments': 0.14285714285714285, 'personas': 0.14285714285714285, 'describe': 0.14285714285714285, 'smaller': 0.14285714285714285, 'sets': 0.14285714285714285, 'large': 0.14285714285714285, 'big': 0.14285714285714285, 'picture': 0.14285714285714285, 'details': 0.14285714285714285, 'includes': 0.14285714285714285, 'detecting': 0.14285714285714285, 'specific': 0.14285714285714285, 'behaviors': 0.14285714285714285, 'prompt': 0.14285714285714285, 'new': 0.14285714285714285, 'product': 0.14285714285714285, 'offer': 0.2857142857142857, 'suggesting': 0.14285714285714285, 'international': 0.14285714285714285, 'plan': 0.14285714285714285, 'frequently': 0.14285714285714285, 'sends': 0.14285714285714285, 'texts': 0.14285714285714285, 'friends': 0.14285714285714285, 'countries': 0.14285714285714285, 'step': 0.14285714285714285, 'leveraging': 0.14285714285714285, 'analytical': 0.14285714285714285, 'gather': 0.2857142857142857, 'Companies': 0.14285714285714285, 'need': 0.14285714285714285, 'strike': 0.14285714285714285, 'balance': 0.14285714285714285, 'obtaining': 0.2857142857142857, 'high': 0.2857142857142857, 'quality': 0.2857142857142857, 'comprehensive': 0.14285714285714285, 'maintaining': 0.14285714285714285, 'trust': 0.14285714285714285, 'increasing': 0.14285714285714285, 'capabilities': 0.14285714285714285, 'mining': 0.14285714285714285, 'protective': 0.14285714285714285, 'personal': 0.14285714285714285, 'Shady': 0.14285714285714285, 'practices': 0.14285714285714285, 'like': 0.14285714285714285, 'notifying': 0.14285714285714285, 'selling': 0.14285714285714285, 'buying': 0.14285714285714285, 'party': 0.14285714285714285, 'sources': 0.14285714285714285, 'left': 0.14285714285714285, 'scarred': 0.14285714285714285, 'wary': 0.14285714285714285, 'Ironically': 0.14285714285714285, 'frustrated': 0.14285714285714285, 'perceive': 0.14285714285714285, 'good': 0.14285714285714285, 'understanding': 0.14285714285714285, 'needs': 0.2857142857142857, 'random': 0.14285714285714285, 'relevant': 0.14285714285714285, 'ones': 0.14285714285714285, 'complex': 0.14285714285714285, 'dynamic': 0.14285714285714285, 'means': 0.14285714285714285, 'telecom': 0.14285714285714285, 'businesses': 0.14285714285714285, 'use': 0.2857142857142857, 'responsible': 0.14285714285714285, 'transparent': 0.14285714285714285, 'way': 0.14285714285714285, '2011': 0.14285714285714285, 'campaign': 0.14285714285714285, 'completed': 0.14285714285714285, 'Istanbul': 0.14285714285714285, 'based': 0.14285714285714285, 'cellphone': 0.14285714285714285, 'provider': 0.14285714285714285, 'demonstrated': 0.14285714285714285, 'successful': 0.14285714285714285, 'company': 0.14285714285714285, 'began': 0.14285714285714285, 'reviewing': 0.14285714285714285, 'real': 0.14285714285714285, 'time': 0.2857142857142857, 'allowing': 0.14285714285714285, 'better': 0.14285714285714285, 'individuals': 0.14285714285714285, '’': 0.14285714285714285, 'result': 0.14285714285714285, 'able': 0.14285714285714285, 'shorten': 0.14285714285714285, 'increase': 0.14285714285714285, 'revenue': 0.14285714285714285, '15': 0.14285714285714285, 'million': 0.14285714285714285, 'year': 0.14285714285714285, 'according': 0.14285714285714285, 'Strategy': 0.14285714285714285, 'report': 0.14285714285714285, 'PwC.': 0.14285714285714285}\n"
     ]
    }
   ],
   "source": [
    "print(word_frequencies)"
   ]
  },
  {
   "cell_type": "markdown",
   "metadata": {},
   "source": [
    "# Sentence Tokenization"
   ]
  },
  {
   "cell_type": "code",
   "execution_count": 39,
   "metadata": {},
   "outputs": [
    {
     "name": "stdout",
     "output_type": "stream",
     "text": [
      "[Analytical marketing:, How Turkcell reduced their sales cycle from weeks to days\n",
      ", There are an enormous number of solutions telecommunications companies can provide, but most customers are only interested in a select few., Analytical marketing is the practice of using customer data to identify which consumers will most likely benefit from which products., This involves using consumer information to create microsegments, or personas that describe smaller sets of customers rather than large, big-picture details., It also includes detecting specific behaviors that prompt a new product offer, such as suggesting an international data plan to a customer who frequently sends texts to friends in other countries.\n",
      "\n",
      ", The first step in leveraging analytical marketing is to gather data., Companies need to strike a balance between obtaining high-quality, comprehensive information and maintaining trust with the consumer.\n",
      "\n",
      ", With the increasing capabilities for data mining, consumers have become protective of their personal information., Shady practices like obtaining and using data without notifying the customer, or selling and buying information from third-party sources have left consumers scarred and wary.\n",
      "\n",
      ", Ironically, consumers also become frustrated when they perceive companies to not have a good understanding of their needs or offer random products rather than relevant ones., This complex dynamic means telecom businesses must gather high-quality information, but use it in a responsible, transparent way.\n",
      "\n",
      ", A 2011 marketing campaign completed by Turkcell, an Istanbul-based cellphone provider, demonstrated the successful use of consumer data., The company began reviewing customer data in real time, allowing them to better identify individuals’ needs at that time., As a result, they were able to shorten their marketing cycle from several weeks to several days and increase revenue by $15 million that year, according to a Strategy& report from PwC.]\n"
     ]
    }
   ],
   "source": [
    "sentence_tokens = [sent for sent in doc.sents]\n",
    "print(sentence_tokens)"
   ]
  },
  {
   "cell_type": "markdown",
   "metadata": {},
   "source": [
    "# Calculate sentences scores\n",
    "By creating a Dictionay for sentences and its normalized frequencies"
   ]
  },
  {
   "cell_type": "code",
   "execution_count": 40,
   "metadata": {},
   "outputs": [
    {
     "data": {
      "text/plain": [
       "{Analytical marketing:: 0.8571428571428572,\n",
       " How Turkcell reduced their sales cycle from weeks to days: 1.1428571428571428,\n",
       " There are an enormous number of solutions telecommunications companies can provide, but most customers are only interested in a select few.: 1.5714285714285712,\n",
       " Analytical marketing is the practice of using customer data to identify which consumers will most likely benefit from which products.: 3.999999999999999,\n",
       " This involves using consumer information to create microsegments, or personas that describe smaller sets of customers rather than large, big-picture details.: 2.999999999999999,\n",
       " It also includes detecting specific behaviors that prompt a new product offer, such as suggesting an international data plan to a customer who frequently sends texts to friends in other countries.\n",
       " : 3.9999999999999996,\n",
       " The first step in leveraging analytical marketing is to gather data.: 2.4285714285714284,\n",
       " Companies need to strike a balance between obtaining high-quality, comprehensive information and maintaining trust with the consumer.\n",
       " : 3.1428571428571423,\n",
       " With the increasing capabilities for data mining, consumers have become protective of their personal information.: 3.0,\n",
       " Shady practices like obtaining and using data without notifying the customer, or selling and buying information from third-party sources have left consumers scarred and wary.\n",
       " : 4.571428571428572,\n",
       " Ironically, consumers also become frustrated when they perceive companies to not have a good understanding of their needs or offer random products rather than relevant ones.: 2.7142857142857135,\n",
       " This complex dynamic means telecom businesses must gather high-quality information, but use it in a responsible, transparent way.\n",
       " : 2.9999999999999996,\n",
       " A 2011 marketing campaign completed by Turkcell, an Istanbul-based cellphone provider, demonstrated the successful use of consumer data.: 3.5714285714285707,\n",
       " The company began reviewing customer data in real time, allowing them to better identify individuals’ needs at that time.: 3.8571428571428563,\n",
       " As a result, they were able to shorten their marketing cycle from several weeks to several days and increase revenue by $15 million that year, according to a Strategy& report from PwC.: 2.999999999999999}"
      ]
     },
     "execution_count": 40,
     "metadata": {},
     "output_type": "execute_result"
    }
   ],
   "source": [
    "sentence_scores = {}                                            //create Dictionary\n",
    "for sent in sentence_tokens:\n",
    "    for word in sent:\n",
    "        if word.text.lower() in word_frequencies.keys():        \n",
    "            if sent not in sentence_scores.keys():              //add word normalized frequencies count in each of these sentences,then with maximum value we are going to find important sentence \n",
    "                sentence_scores[sent] = word_frequencies[word.text.lower()]\n",
    "            else:\n",
    "                sentence_scores[sent] += word_frequencies[word.text.lower()]\n",
    "sentence_scores              "
   ]
  },
  {
   "cell_type": "code",
   "execution_count": 41,
   "metadata": {},
   "outputs": [
    {
     "data": {
      "text/plain": [
       "4"
      ]
     },
     "execution_count": 41,
     "metadata": {},
     "output_type": "execute_result"
    }
   ],
   "source": [
    "# Can tweek percentage\n",
    "# Get 30% of important sentences with maximum score - using nlargest\n",
    "from heapq import nlargest\n",
    "select_length = int(len(sentence_tokens)*0.3)\n",
    "select_length"
   ]
  },
  {
   "cell_type": "code",
   "execution_count": 42,
   "metadata": {},
   "outputs": [
    {
     "data": {
      "text/plain": [
       "[Shady practices like obtaining and using data without notifying the customer, or selling and buying information from third-party sources have left consumers scarred and wary.\n",
       " ,\n",
       " It also includes detecting specific behaviors that prompt a new product offer, such as suggesting an international data plan to a customer who frequently sends texts to friends in other countries.\n",
       " ,\n",
       " Analytical marketing is the practice of using customer data to identify which consumers will most likely benefit from which products.,\n",
       " The company began reviewing customer data in real time, allowing them to better identify individuals’ needs at that time.]"
      ]
     },
     "execution_count": 42,
     "metadata": {},
     "output_type": "execute_result"
    }
   ],
   "source": [
    "\n",
    "summary = nlargest(select_length , sentence_scores , key = sentence_scores.get)\n",
    "summary   # Got 4 important sentences\n"
   ]
  },
  {
   "cell_type": "code",
   "execution_count": 43,
   "metadata": {},
   "outputs": [
    {
     "data": {
      "text/plain": [
       "['Shady practices like obtaining and using data without notifying the customer, or selling and buying information from third-party sources have left consumers scarred and wary.\\n\\n',\n",
       " 'It also includes detecting specific behaviors that prompt a new product offer, such as suggesting an international data plan to a customer who frequently sends texts to friends in other countries.\\n\\n',\n",
       " 'Analytical marketing is the practice of using customer data to identify which consumers will most likely benefit from which products.',\n",
       " 'The company began reviewing customer data in real time, allowing them to better identify individuals’ needs at that time.']"
      ]
     },
     "execution_count": 43,
     "metadata": {},
     "output_type": "execute_result"
    }
   ],
   "source": [
    "final_summary = [word.text for word in summary]\n",
    "final_summary "
   ]
  },
  {
   "cell_type": "code",
   "execution_count": 47,
   "metadata": {},
   "outputs": [
    {
     "data": {
      "text/plain": [
       "4"
      ]
     },
     "execution_count": 47,
     "metadata": {},
     "output_type": "execute_result"
    }
   ],
   "source": [
    "len(final_summary)"
   ]
  },
  {
   "cell_type": "code",
   "execution_count": 46,
   "metadata": {},
   "outputs": [],
   "source": [
    "#combining above 4 lines togeather to from a summary\n",
    "summary = ' ' .join(final_summary)"
   ]
  },
  {
   "cell_type": "code",
   "execution_count": 48,
   "metadata": {},
   "outputs": [
    {
     "data": {
      "text/plain": [
       "'Shady practices like obtaining and using data without notifying the customer, or selling and buying information from third-party sources have left consumers scarred and wary.\\n\\n It also includes detecting specific behaviors that prompt a new product offer, such as suggesting an international data plan to a customer who frequently sends texts to friends in other countries.\\n\\n Analytical marketing is the practice of using customer data to identify which consumers will most likely benefit from which products. The company began reviewing customer data in real time, allowing them to better identify individuals’ needs at that time.'"
      ]
     },
     "execution_count": 48,
     "metadata": {},
     "output_type": "execute_result"
    }
   ],
   "source": [
    "summary"
   ]
  },
  {
   "cell_type": "code",
   "execution_count": 49,
   "metadata": {},
   "outputs": [
    {
     "name": "stdout",
     "output_type": "stream",
     "text": [
      "length of original text: 1952\n",
      "length of autosummarization text 631\n"
     ]
    }
   ],
   "source": [
    "print(\"length of original text:\",len(text))\n",
    "print(\"length of autosummarization text\",len(summary))\n"
   ]
  },
  {
   "cell_type": "code",
   "execution_count": null,
   "metadata": {},
   "outputs": [],
   "source": []
  },
  {
   "cell_type": "code",
   "execution_count": null,
   "metadata": {},
   "outputs": [],
   "source": []
  }
 ],
 "metadata": {
  "kernelspec": {
   "display_name": "Python 3 (ipykernel)",
   "language": "python",
   "name": "python3"
  },
  "language_info": {
   "codemirror_mode": {
    "name": "ipython",
    "version": 3
   },
   "file_extension": ".py",
   "mimetype": "text/x-python",
   "name": "python",
   "nbconvert_exporter": "python",
   "pygments_lexer": "ipython3",
   "version": "3.9.7"
  }
 },
 "nbformat": 4,
 "nbformat_minor": 2
}
